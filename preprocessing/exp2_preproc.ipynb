{
 "cells": [
  {
   "cell_type": "markdown",
   "id": "e199b0cb",
   "metadata": {},
   "source": [
    "# Experiment 2 preprocessing"
   ]
  },
  {
   "cell_type": "markdown",
   "id": "7c1fd2b3",
   "metadata": {},
   "source": [
    "The purpose of this script is to join all participant's behavioral data into a single dataframe, define new variables relevant for analyses, and filter trials and subjects based on reaction times and catch trial responses"
   ]
  },
  {
   "cell_type": "code",
   "execution_count": 1,
   "metadata": {},
   "outputs": [
    {
     "name": "stderr",
     "output_type": "stream",
     "text": [
      "/tmp/ipykernel_12310/2225925798.py:4: DeprecationWarning: \n",
      "Pyarrow will become a required dependency of pandas in the next major release of pandas (pandas 3.0),\n",
      "(to allow more performant data types, such as the Arrow string type, and better interoperability with other libraries)\n",
      "but was not found to be installed on your system.\n",
      "If this would cause problems for you,\n",
      "please provide us feedback at https://github.com/pandas-dev/pandas/issues/54466\n",
      "        \n",
      "  import pandas as pd\n"
     ]
    }
   ],
   "source": [
    "import warnings\n",
    "warnings.simplefilter(action='ignore', category=FutureWarning)\n",
    "\n",
    "import pandas as pd\n",
    "import numpy as np\n",
    "import seaborn as sns\n",
    "import matplotlib.pyplot as plt"
   ]
  },
  {
   "attachments": {},
   "cell_type": "markdown",
   "id": "4f34fb25",
   "metadata": {},
   "source": [
    "# Loading raw data"
   ]
  },
  {
   "cell_type": "code",
   "execution_count": 13,
   "metadata": {},
   "outputs": [],
   "source": [
    "#Concatenating all participants in a single dataframe\n",
    "import glob\n",
    "\n",
    "path = r'/media/wiseman/HDD/DMFgit/PredRelv/raw/exp2/' # use your path to raw data\n",
    "all_files = glob.glob(path + \"/*.csv\")\n",
    "\n",
    "li = []\n",
    "\n",
    "for filename in all_files:\n",
    "    df = pd.read_csv(filename, index_col=None, header=0)\n",
    "    li.append(df)\n",
    "    \n",
    "df = pd.concat(li, axis=0, ignore_index=True)"
   ]
  },
  {
   "cell_type": "code",
   "execution_count": 14,
   "metadata": {},
   "outputs": [
    {
     "data": {
      "text/plain": [
       "65"
      ]
     },
     "execution_count": 14,
     "metadata": {},
     "output_type": "execute_result"
    }
   ],
   "source": [
    "len(df[\"id\"].unique()) # n = 65"
   ]
  },
  {
   "cell_type": "code",
   "execution_count": 15,
   "id": "f610d93c",
   "metadata": {},
   "outputs": [],
   "source": [
    "learn_df = df[df.phase==0] # learning phase \n",
    "implicit_df = df[df.phase==1] # implicit test phase\n",
    "explicit_df = df[df.phase==2] # explicit recall phase"
   ]
  },
  {
   "cell_type": "code",
   "execution_count": 17,
   "id": "43b04eba",
   "metadata": {},
   "outputs": [
    {
     "data": {
      "text/plain": [
       "modality\n",
       "auditory    34\n",
       "visual      31\n",
       "Name: id, dtype: int64"
      ]
     },
     "execution_count": 17,
     "metadata": {},
     "output_type": "execute_result"
    }
   ],
   "source": [
    "implicit_df.groupby(\"modality\")[\"id\"].nunique()"
   ]
  },
  {
   "cell_type": "markdown",
   "id": "afb6b414",
   "metadata": {},
   "source": [
    "# Checking catch trial detection"
   ]
  },
  {
   "cell_type": "markdown",
   "id": "e5691f63",
   "metadata": {},
   "source": [
    "The crucial part is making sure that particpants responded to visual catch trials in auditory blocks. We will mark auditory blocks of each participant where they did not seem to respond to catch trials"
   ]
  },
  {
   "cell_type": "code",
   "execution_count": 18,
   "id": "e3baf6b2",
   "metadata": {},
   "outputs": [
    {
     "name": "stderr",
     "output_type": "stream",
     "text": [
      "/tmp/ipykernel_12310/1189615755.py:4: SettingWithCopyWarning: \n",
      "A value is trying to be set on a copy of a slice from a DataFrame.\n",
      "Try using .loc[row_indexer,col_indexer] = value instead\n",
      "\n",
      "See the caveats in the documentation: https://pandas.pydata.org/pandas-docs/stable/user_guide/indexing.html#returning-a-view-versus-a-copy\n",
      "  implicit_df[\"invalid_catch\"] = np.zeros(len(implicit_df))\n"
     ]
    }
   ],
   "source": [
    "dat = implicit_df[(implicit_df.modality == \"auditory\") & (implicit_df.catch == 1)].groupby([\"id\", \"block\"], as_index=0)[\"correct\"].mean()\n",
    "dat[dat.correct == 0] # if they responded to at least 1 of 8 visual catch considering it valid\n",
    "\n",
    "implicit_df[\"invalid_catch\"] = np.zeros(len(implicit_df))\n",
    "\n",
    "for row in range(len(dat)):\n",
    "    subj = dat.iloc[row,:][\"id\"]\n",
    "    block = dat.iloc[row,:][\"block\"]\n",
    "    if dat.iloc[row,:][\"correct\"] == 0:\n",
    "        implicit_df.loc[(implicit_df['id'] == subj) & (implicit_df['block'] == block), 'invalid_catch'] = 1"
   ]
  },
  {
   "attachments": {},
   "cell_type": "markdown",
   "metadata": {
    "tags": []
   },
   "source": [
    "# Defining new variables"
   ]
  },
  {
   "cell_type": "code",
   "execution_count": 22,
   "metadata": {},
   "outputs": [
    {
     "name": "stderr",
     "output_type": "stream",
     "text": [
      "/tmp/ipykernel_12310/2636704391.py:2: SettingWithCopyWarning: \n",
      "A value is trying to be set on a copy of a slice from a DataFrame.\n",
      "Try using .loc[row_indexer,col_indexer] = value instead\n",
      "\n",
      "See the caveats in the documentation: https://pandas.pydata.org/pandas-docs/stable/user_guide/indexing.html#returning-a-view-versus-a-copy\n",
      "  implicit_df[\"pred\"] = np.where(implicit_df[\"modality\"] == \"visual\", implicit_df[\"v_pred\"], implicit_df[\"a_pred\"])\n",
      "/tmp/ipykernel_12310/2636704391.py:4: SettingWithCopyWarning: \n",
      "A value is trying to be set on a copy of a slice from a DataFrame.\n",
      "Try using .loc[row_indexer,col_indexer] = value instead\n",
      "\n",
      "See the caveats in the documentation: https://pandas.pydata.org/pandas-docs/stable/user_guide/indexing.html#returning-a-view-versus-a-copy\n",
      "  implicit_df[\"ign_pred\"] = np.where(implicit_df[\"modality\"] == \"visual\", implicit_df[\"a_pred\"], implicit_df[\"v_pred\"])\n",
      "/tmp/ipykernel_12310/2636704391.py:6: SettingWithCopyWarning: \n",
      "A value is trying to be set on a copy of a slice from a DataFrame.\n",
      "Try using .loc[row_indexer,col_indexer] = value instead\n",
      "\n",
      "See the caveats in the documentation: https://pandas.pydata.org/pandas-docs/stable/user_guide/indexing.html#returning-a-view-versus-a-copy\n",
      "  implicit_df[\"ign_mod\"] = np.where(implicit_df[\"modality\"] == \"visual\", \"auditory\", \"visual\")\n",
      "/tmp/ipykernel_12310/2636704391.py:9: SettingWithCopyWarning: \n",
      "A value is trying to be set on a copy of a slice from a DataFrame.\n",
      "Try using .loc[row_indexer,col_indexer] = value instead\n",
      "\n",
      "See the caveats in the documentation: https://pandas.pydata.org/pandas-docs/stable/user_guide/indexing.html#returning-a-view-versus-a-copy\n",
      "  implicit_df[\"relevant_expected\"] = np.where(implicit_df.pred == \"EXP\", 1, 0); implicit_df[\"relevant_expected\"] = implicit_df[\"relevant_expected\"].astype(\"str\")\n",
      "/tmp/ipykernel_12310/2636704391.py:9: SettingWithCopyWarning: \n",
      "A value is trying to be set on a copy of a slice from a DataFrame.\n",
      "Try using .loc[row_indexer,col_indexer] = value instead\n",
      "\n",
      "See the caveats in the documentation: https://pandas.pydata.org/pandas-docs/stable/user_guide/indexing.html#returning-a-view-versus-a-copy\n",
      "  implicit_df[\"relevant_expected\"] = np.where(implicit_df.pred == \"EXP\", 1, 0); implicit_df[\"relevant_expected\"] = implicit_df[\"relevant_expected\"].astype(\"str\")\n",
      "/tmp/ipykernel_12310/2636704391.py:10: SettingWithCopyWarning: \n",
      "A value is trying to be set on a copy of a slice from a DataFrame.\n",
      "Try using .loc[row_indexer,col_indexer] = value instead\n",
      "\n",
      "See the caveats in the documentation: https://pandas.pydata.org/pandas-docs/stable/user_guide/indexing.html#returning-a-view-versus-a-copy\n",
      "  implicit_df[\"irrelevant_expected\"] = np.where(implicit_df.ign_pred == \"EXP\", 1, 0); implicit_df[\"irrelevant_expected\"] = implicit_df[\"irrelevant_expected\"].astype(\"str\")\n",
      "/tmp/ipykernel_12310/2636704391.py:10: SettingWithCopyWarning: \n",
      "A value is trying to be set on a copy of a slice from a DataFrame.\n",
      "Try using .loc[row_indexer,col_indexer] = value instead\n",
      "\n",
      "See the caveats in the documentation: https://pandas.pydata.org/pandas-docs/stable/user_guide/indexing.html#returning-a-view-versus-a-copy\n",
      "  implicit_df[\"irrelevant_expected\"] = np.where(implicit_df.ign_pred == \"EXP\", 1, 0); implicit_df[\"irrelevant_expected\"] = implicit_df[\"irrelevant_expected\"].astype(\"str\")\n"
     ]
    }
   ],
   "source": [
    "# Another pred column which always refers to attended modality\n",
    "implicit_df[\"pred\"] = np.where(implicit_df[\"modality\"] == \"visual\", implicit_df[\"v_pred\"], implicit_df[\"a_pred\"])\n",
    "# And another one referring to unattended\n",
    "implicit_df[\"ign_pred\"] = np.where(implicit_df[\"modality\"] == \"visual\", implicit_df[\"a_pred\"], implicit_df[\"v_pred\"])\n",
    "# Lastly one referring to unattended modality itself\n",
    "implicit_df[\"ign_mod\"] = np.where(implicit_df[\"modality\"] == \"visual\", \"auditory\", \"visual\")\n",
    "\n",
    "# These columns transform the values of pred and ign_pred: \"EXP\" --> \"1\" ,  \"VP\" --> \"0\"\n",
    "implicit_df[\"relevant_expected\"] = np.where(implicit_df.pred == \"EXP\", 1, 0); implicit_df[\"relevant_expected\"] = implicit_df[\"relevant_expected\"].astype(\"str\")\n",
    "implicit_df[\"irrelevant_expected\"] = np.where(implicit_df.ign_pred == \"EXP\", 1, 0); implicit_df[\"irrelevant_expected\"] = implicit_df[\"irrelevant_expected\"].astype(\"str\")"
   ]
  },
  {
   "attachments": {},
   "cell_type": "markdown",
   "id": "7e6f9ac1",
   "metadata": {},
   "source": [
    "## Explicit phase performance"
   ]
  },
  {
   "attachments": {},
   "cell_type": "markdown",
   "id": "53f0f197",
   "metadata": {},
   "source": [
    "Only considering a learned pair if both expected and unexpected trials in the explicit phase were correctly classified"
   ]
  },
  {
   "cell_type": "code",
   "execution_count": 23,
   "id": "1434e2a5",
   "metadata": {},
   "outputs": [
    {
     "name": "stderr",
     "output_type": "stream",
     "text": [
      "/tmp/ipykernel_12310/1007819225.py:12: SettingWithCopyWarning: \n",
      "A value is trying to be set on a copy of a slice from a DataFrame.\n",
      "Try using .loc[row_indexer,col_indexer] = value instead\n",
      "\n",
      "See the caveats in the documentation: https://pandas.pydata.org/pandas-docs/stable/user_guide/indexing.html#returning-a-view-versus-a-copy\n",
      "  implicit_df[\"v_learned\"] = new_col\n"
     ]
    }
   ],
   "source": [
    "# Adding a column to the implicit test dataframe to indicate if the participant learned the visual cue\n",
    "v_explicit = explicit_df.groupby([\"id\", \"v_leading\"], as_index=0)[\"correct\"].sum()\n",
    "new_col = []\n",
    "for row in range(len(implicit_df)):\n",
    "    subj = implicit_df.iloc[row,:][\"id\"]\n",
    "    cue = implicit_df.iloc[row,:][\"v_leading\"]\n",
    "    \n",
    "    condition = (v_explicit.id == subj) & (v_explicit.v_leading == cue) & (v_explicit[\"correct\"] > 3)\n",
    "    if condition.any(): new_col.append(1)\n",
    "    else: new_col.append(0)\n",
    "\n",
    "implicit_df[\"v_learned\"] = new_col\n"
   ]
  },
  {
   "cell_type": "code",
   "execution_count": 24,
   "id": "3a23559c",
   "metadata": {},
   "outputs": [
    {
     "name": "stderr",
     "output_type": "stream",
     "text": [
      "/tmp/ipykernel_12310/3678930577.py:12: SettingWithCopyWarning: \n",
      "A value is trying to be set on a copy of a slice from a DataFrame.\n",
      "Try using .loc[row_indexer,col_indexer] = value instead\n",
      "\n",
      "See the caveats in the documentation: https://pandas.pydata.org/pandas-docs/stable/user_guide/indexing.html#returning-a-view-versus-a-copy\n",
      "  implicit_df[\"a_learned\"] = new_col\n"
     ]
    }
   ],
   "source": [
    "# Adding a column to the implicit test dataframe to indicate if the participant learned the auditory cue\n",
    "a_explicit = explicit_df.groupby([\"id\", \"a_leading\"], as_index=0)[\"correct\"].sum()\n",
    "new_col = []\n",
    "for row in range(len(implicit_df)):\n",
    "    subj = implicit_df.iloc[row,:][\"id\"]\n",
    "    cue = implicit_df.iloc[row,:][\"a_leading\"]\n",
    "\n",
    "    condition = (a_explicit.id == subj) & (a_explicit.a_leading == cue) & (a_explicit[\"correct\"] > 3)\n",
    "    if condition.any(): new_col.append(1)\n",
    "    else: new_col.append(0)\n",
    "\n",
    "implicit_df[\"a_learned\"] = new_col"
   ]
  },
  {
   "cell_type": "code",
   "execution_count": 25,
   "id": "cc797539",
   "metadata": {},
   "outputs": [
    {
     "name": "stderr",
     "output_type": "stream",
     "text": [
      "/tmp/ipykernel_12310/3836484176.py:2: SettingWithCopyWarning: \n",
      "A value is trying to be set on a copy of a slice from a DataFrame.\n",
      "Try using .loc[row_indexer,col_indexer] = value instead\n",
      "\n",
      "See the caveats in the documentation: https://pandas.pydata.org/pandas-docs/stable/user_guide/indexing.html#returning-a-view-versus-a-copy\n",
      "  implicit_df[\"att_learned\"] = np.where(implicit_df[\"modality\"] == \"visual\", implicit_df[\"v_learned\"], implicit_df[\"a_learned\"])\n",
      "/tmp/ipykernel_12310/3836484176.py:3: SettingWithCopyWarning: \n",
      "A value is trying to be set on a copy of a slice from a DataFrame.\n",
      "Try using .loc[row_indexer,col_indexer] = value instead\n",
      "\n",
      "See the caveats in the documentation: https://pandas.pydata.org/pandas-docs/stable/user_guide/indexing.html#returning-a-view-versus-a-copy\n",
      "  implicit_df[\"ign_learned\"] = np.where(implicit_df[\"modality\"] == \"visual\", implicit_df[\"a_learned\"], implicit_df[\"v_learned\"])\n",
      "/tmp/ipykernel_12310/3836484176.py:5: SettingWithCopyWarning: \n",
      "A value is trying to be set on a copy of a slice from a DataFrame.\n",
      "Try using .loc[row_indexer,col_indexer] = value instead\n",
      "\n",
      "See the caveats in the documentation: https://pandas.pydata.org/pandas-docs/stable/user_guide/indexing.html#returning-a-view-versus-a-copy\n",
      "  implicit_df[\"att_learned\"] = implicit_df[\"att_learned\"].astype(\"str\")\n",
      "/tmp/ipykernel_12310/3836484176.py:6: SettingWithCopyWarning: \n",
      "A value is trying to be set on a copy of a slice from a DataFrame.\n",
      "Try using .loc[row_indexer,col_indexer] = value instead\n",
      "\n",
      "See the caveats in the documentation: https://pandas.pydata.org/pandas-docs/stable/user_guide/indexing.html#returning-a-view-versus-a-copy\n",
      "  implicit_df[\"ign_learned\"] = implicit_df[\"ign_learned\"].astype(\"str\")\n"
     ]
    }
   ],
   "source": [
    "# new columns encoding learned pairs of attended and unattended modalities\n",
    "implicit_df[\"att_learned\"] = np.where(implicit_df[\"modality\"] == \"visual\", implicit_df[\"v_learned\"], implicit_df[\"a_learned\"])\n",
    "implicit_df[\"ign_learned\"] = np.where(implicit_df[\"modality\"] == \"visual\", implicit_df[\"a_learned\"], implicit_df[\"v_learned\"])\n",
    "\n",
    "implicit_df[\"att_learned\"] = implicit_df[\"att_learned\"].astype(\"str\")\n",
    "implicit_df[\"ign_learned\"] = implicit_df[\"ign_learned\"].astype(\"str\")"
   ]
  },
  {
   "attachments": {},
   "cell_type": "markdown",
   "id": "c681b925",
   "metadata": {},
   "source": [
    "## Filtering dataframe"
   ]
  },
  {
   "cell_type": "code",
   "execution_count": 31,
   "id": "6f4cc745",
   "metadata": {},
   "outputs": [],
   "source": [
    "# We first remove all starting block trials, to remove first trial of a participant and the effect of the between block intervals.implicit_df\n",
    "implicit_df = implicit_df[implicit_df.ntrial != 0] \n",
    "implicit_df.reset_index(inplace=True, drop=True)"
   ]
  },
  {
   "cell_type": "code",
   "execution_count": 35,
   "id": "997ec3e8",
   "metadata": {},
   "outputs": [
    {
     "data": {
      "text/plain": [
       "45237"
      ]
     },
     "execution_count": 35,
     "metadata": {},
     "output_type": "execute_result"
    }
   ],
   "source": [
    "len(implicit_df)"
   ]
  },
  {
   "cell_type": "code",
   "execution_count": 33,
   "id": "3baf31f0",
   "metadata": {},
   "outputs": [],
   "source": [
    "def RT_filter(df):\n",
    "    # this function was used to filter those trials with a RT that are above X standard deviation from the mean\n",
    "    rt_mean = df['RT'].mean()\n",
    "    up_lim = rt_mean + 3 * df['RT'].std() # Before 2 sd\n",
    "    x = df.loc[df['RT'] < up_lim, : ]\n",
    "    return x #the same dataframe with RT filtered"
   ]
  },
  {
   "cell_type": "code",
   "execution_count": 34,
   "id": "e3a166ad",
   "metadata": {},
   "outputs": [
    {
     "name": "stderr",
     "output_type": "stream",
     "text": [
      "/tmp/ipykernel_12310/2845513067.py:2: DeprecationWarning: DataFrameGroupBy.apply operated on the grouping columns. This behavior is deprecated, and in a future version of pandas the grouping columns will be excluded from the operation. Either pass `include_groups=False` to exclude the groupings or explicitly select the grouping columns after groupby to silence this warning.\n",
      "  df_clean = implicit_df.groupby([\"id\"], as_index= False).apply(RT_filter).reset_index()\n"
     ]
    }
   ],
   "source": [
    "# Filtering RT outliers (>3 std) within each participant\n",
    "df_clean = implicit_df.groupby([\"id\"], as_index= False).apply(RT_filter).reset_index() \n",
    "implicit_df = df_clean.iloc[:,2:]"
   ]
  },
  {
   "attachments": {},
   "cell_type": "markdown",
   "id": "94a709c9",
   "metadata": {},
   "source": [
    "## Adding modifications to response variables"
   ]
  },
  {
   "cell_type": "code",
   "execution_count": 36,
   "id": "c700783f",
   "metadata": {},
   "outputs": [],
   "source": [
    "# eliminate catch trials and trials where they responded catch by mistake\n",
    "implicit_df = implicit_df[(implicit_df[\"resp\"] != \"catch\") & (implicit_df[\"catch\"] == 0)]\n",
    "implicit_df.reset_index(inplace=True,drop=True)"
   ]
  },
  {
   "cell_type": "code",
   "execution_count": 37,
   "id": "fd096271",
   "metadata": {},
   "outputs": [],
   "source": [
    "# Temporary column where diff value of same (non-target) trials is set to 0\n",
    "implicit_df[\"change_r\"] = np.where(implicit_df[\"target\"]==0, 0, implicit_df[\"diff\"])"
   ]
  },
  {
   "cell_type": "code",
   "execution_count": 38,
   "id": "0a4b47eb",
   "metadata": {},
   "outputs": [],
   "source": [
    "# Rescaling change values from 0 to 1\n",
    "dfmax = implicit_df.groupby([\"id\", \"modality\"], as_index=0)[\"change_r\"].max()\n",
    "new_col = []\n",
    "for row in range(len(implicit_df)):\n",
    "     subj = implicit_df.iloc[row,:][\"id\"]\n",
    "     mod = implicit_df.iloc[row,:][\"modality\"]\n",
    "     max = dfmax[(dfmax.id == subj) & (dfmax.modality == mod)][\"change_r\"]\n",
    "     new_col.append(implicit_df.iloc[row,:][\"change_r\"] / max)\n",
    "\n",
    "implicit_df[\"change\"] = np.asarray(new_col) # If not passed as array for some reason it results in error when plotting"
   ]
  },
  {
   "cell_type": "code",
   "execution_count": 39,
   "id": "8043733a",
   "metadata": {},
   "outputs": [],
   "source": [
    "# pymer wants the response variable to be numeric\n",
    "implicit_df[\"response\"] = np.where(implicit_df[\"resp\"] == \"diferente\", 1, 0)"
   ]
  },
  {
   "cell_type": "markdown",
   "id": "923de676",
   "metadata": {},
   "source": [
    "# Saving dataframe "
   ]
  },
  {
   "cell_type": "code",
   "execution_count": 40,
   "id": "629342e3",
   "metadata": {},
   "outputs": [],
   "source": [
    "implicit_df.to_csv(\"/media/wiseman/HDD/DMFgit/PredRelv/behav_analyses/data/exp2_implicit.csv\")\n",
    "learn_df.to_csv(\"/media/wiseman/HDD/DMFgit/PredRelv/behav_analyses/data/exp2_learn.csv\")\n",
    "explicit_df.to_csv(\"/media/wiseman/HDD/DMFgit/PredRelv/behav_analyses/data/exp2_explicit.csv\")"
   ]
  }
 ],
 "metadata": {
  "kernelspec": {
   "display_name": "Python 3",
   "language": "python",
   "name": "python3"
  },
  "language_info": {
   "codemirror_mode": {
    "name": "ipython",
    "version": 3
   },
   "file_extension": ".py",
   "mimetype": "text/x-python",
   "name": "python",
   "nbconvert_exporter": "python",
   "pygments_lexer": "ipython3",
   "version": "3.11.8"
  }
 },
 "nbformat": 4,
 "nbformat_minor": 5
}
